{
 "cells": [
  {
   "cell_type": "markdown",
   "metadata": {},
   "source": [
    "# The Battle of the Neighbourhoods\n",
    "## Coursera capstone project - Co-working spaces in Europe\n",
    "\n",
    "### Introduction\n",
    "#### A discussion of the problem and the background\n",
    "\n",
    "With the COVID-19 many experts say that working from home and working from distance are becoming the new norm. Workers are experiencing the benefits of remote working, which will bring a lasting impact to offices around the world. The traditional perspectives on having a work contract and what this entails for employees in terms of physical presence, meetings, networking, socialising with colleagues are shifting towards a view, where the needs of the individual as well as the company might be best served through flexible working conditions and rules. To some, this would mean working partly or fully from home or working remotely from virtually anywhere in the world.\n",
    "\n",
    "Among these circumstances, those looking to invest will quickly recognise the opportunity lying in investing in co-working spaces. This is the perfect time to invest in opening untraditional working spaces that satisfy the needs of the new norm of workers. <i>But where exactly should one invest in a new co-working space between the borders of Europe?</i>\n",
    "\n",
    "In this project, I will look at existing co-working spaces in European capitals with the aim to answer the question: which European capital cities are predicted to be most in need of co-working spaces with the formulation of a new norm of working after the COVID-19.\n",
    "\n",
    "\n",
    "### Methodology\n",
    "#### A description of the data and how it will be used to solve the problem\n",
    "\n",
    "Based on the requirements of the Applied Data Science Capstone course, the project will mostly rely on data from Foursquare, using a Sandbox account. With a Sandbox account on Foursquare, I have access to a limited amount of geographic data, name and category of venues; and an even more limited amount of other descriptors of venues, such as ratings, url to website, number of check-ins, number of reviews, opening hours, number of users who liked the venue and a few more. This is the starting ground of the project, i.e. the main opportunities as well as the main limitations arise from this framework of sourcing the data.\n",
    "\n",
    "To contain the required data, I have selected to look at the 27 European Union member state capitals and the existing co-working spaces located in them. First of all, a list of the geo location of each capital will need to be identified, as well as the approximate radius of each city. Since my calculations will be based on co-working spaces per capita, I will need to collect the number of inhabitants of each city as well. This data is freely available from online sources that can be scraped.\n",
    "\n",
    "Once the dataframe of the capital cities' basic data is set up, I will send a request through the Foursquare API to retrieve the data of co-working spaces in each city. I will then compare the number of co-working spaces with the inhabitants in each city. This ratio will indicate where there might be larger space for expansion in terms of co-working spaces.\n",
    "\n",
    "It is worth to note that it would also be great to see other indicators, such as a chronological development of co-working spaces in EU capitals; freelancers registered in each city; property prices; and so on,  however, with the limitations of data sourcing, this will not be feasible within this project.\n",
    "\n",
    "After the initial data analysis, I will cluster cities based on the co-working space / number of inhabitants-ratio and see if there are observations that can be drawn (e.g. if there is a region of the EU where co-working spaces are lacking most).\n",
    "\n",
    "As a result of the project, I will recommend a set of 3-5 cities where it would be recommended for investors to investigate opening co-working spaces further."
   ]
  },
  {
   "cell_type": "code",
   "execution_count": null,
   "metadata": {},
   "outputs": [],
   "source": []
  }
 ],
 "metadata": {
  "kernelspec": {
   "display_name": "Python 3",
   "language": "python",
   "name": "python3"
  },
  "language_info": {
   "codemirror_mode": {
    "name": "ipython",
    "version": 3
   },
   "file_extension": ".py",
   "mimetype": "text/x-python",
   "name": "python",
   "nbconvert_exporter": "python",
   "pygments_lexer": "ipython3",
   "version": "3.7.6"
  }
 },
 "nbformat": 4,
 "nbformat_minor": 4
}
